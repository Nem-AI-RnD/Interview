{
 "cells": [
  {
   "cell_type": "markdown",
   "id": "2d016d2c",
   "metadata": {},
   "source": [
    "# Email Spam Classification"
   ]
  },
  {
   "cell_type": "markdown",
   "id": "ed85cd93",
   "metadata": {},
   "source": [
    "- Generate your dataset and get familiar with the target variable 'Spam/Non-Spam' and the explanatory variables, e.g. scale levels of your covariates etc.\n",
    "\n",
    "- Construct a simple predictive model to classify future emails\n",
    "\n",
    "- Motivate the steps you are pursuing and discuss your model results \n",
    "\n",
    "- What are the pros/cons of your selected algorithm?\n",
    "\n",
    "- How could you improve it? "
   ]
  },
  {
   "cell_type": "code",
   "execution_count": 1,
   "id": "61d00df9",
   "metadata": {},
   "outputs": [],
   "source": [
    "from utils import SpamDatasetGenerator"
   ]
  },
  {
   "cell_type": "markdown",
   "id": "90b2f60c",
   "metadata": {},
   "source": [
    "### Imbalanced supervised learning"
   ]
  },
  {
   "cell_type": "code",
   "execution_count": 11,
   "id": "89ab77b4",
   "metadata": {},
   "outputs": [
    {
     "name": "stdout",
     "output_type": "stream",
     "text": [
      "\n",
      "    A class to generate a synthetic dataset for a spam classification task.\n",
      "\n",
      "    The dataset contains emails with features that are commonly used\n",
      "    in spam classification. The dataset includes 9 covariates and a binary response.\n",
      "\n",
      "    Feature Descriptions:\n",
      "      - num_links: The number of hyperlinks in the email. Spam emails\n",
      "                   often contain several links to redirect the user.\n",
      "      - num_exclamations: The count of exclamation marks in the email.\n",
      "                          An unusually high count may indicate spam.\n",
      "      - email_length: The length of the email in characters. This can\n",
      "                      help differentiate short, potentially templated spam emails\n",
      "                      from longer legitimate communications.\n",
      "      - sender_domain: The domain from which the email was sent\n",
      "                       (e.g., gmail.com, yahoo.com, spamdomain.net). Some domains\n",
      "                       are more frequently associated with spam.\n",
      "      - email_client: The client or platform used to send or view\n",
      "                      the email (e.g., Web, Mobile, Desktop, Other).\n",
      "      - suspicion_score: An ordinal measure (scale 1-5) indicating how\n",
      "                         suspicious the email appears. Higher scores suggest greater\n",
      "                         suspicion.\n",
      "      - urgency_level: An ordinal measure (scale 1-5) representing how\n",
      "                       urgent the email appears. Spam emails may exaggerate urgency\n",
      "                       to provoke a quick reaction.\n",
      "      - subject: The subject line of the email. Spam emails often use\n",
      "                 attention-grabbing phrases.\n",
      "      - email_body: A snippet of the email body, which may include both\n",
      "                    spam-like language and standard communication phrases.\n",
      "      - target: The class label where 1 indicates a spam email and 0\n",
      "                  indicates a non-spam email.\n",
      "    \n"
     ]
    }
   ],
   "source": [
    "generator = SpamDatasetGenerator(n_samples=10000, random_state=43, spam_ratio=0.1)\n",
    "\n",
    "X, y = generator.generate_dataset(na_ratio_for_non_spam=0)\n",
    "\n",
    "generator.print_description()"
   ]
  },
  {
   "cell_type": "markdown",
   "id": "bad69a48",
   "metadata": {},
   "source": [
    "### Semi-supervised learning"
   ]
  },
  {
   "cell_type": "code",
   "execution_count": 17,
   "id": "fbf51714",
   "metadata": {},
   "outputs": [],
   "source": [
    "generator = SpamDatasetGenerator(n_samples=10000, random_state=42, spam_ratio=0.1)\n",
    "\n",
    "X, y = generator.generate_dataset(na_ratio_for_non_spam=0.5)"
   ]
  },
  {
   "cell_type": "markdown",
   "id": "ac71c976",
   "metadata": {},
   "source": [
    "### Positive Unlabelled learning / Anomaly detection"
   ]
  },
  {
   "cell_type": "code",
   "execution_count": 19,
   "id": "e7cf2578",
   "metadata": {},
   "outputs": [],
   "source": [
    "generator = SpamDatasetGenerator(n_samples=10000, random_state=42, spam_ratio=0.1)\n",
    "\n",
    "X, y = generator.generate_dataset(na_ratio_for_non_spam=1)"
   ]
  },
  {
   "cell_type": "code",
   "execution_count": 3,
   "id": "0a2d1c70",
   "metadata": {},
   "outputs": [
    {
     "data": {
      "text/plain": [
       "target\n",
       "0    0.9007\n",
       "1    0.0993\n",
       "Name: proportion, dtype: Float64"
      ]
     },
     "execution_count": 3,
     "metadata": {},
     "output_type": "execute_result"
    }
   ],
   "source": [
    "y.value_counts(dropna=False, normalize=True)"
   ]
  },
  {
   "cell_type": "code",
   "execution_count": 4,
   "id": "e6ca08d4",
   "metadata": {},
   "outputs": [],
   "source": [
    "# y.value_counts(dropna=True, normalize=True).plot(kind='bar', title='Target Distribution'); "
   ]
  },
  {
   "cell_type": "code",
   "execution_count": 12,
   "id": "f9cbdca7",
   "metadata": {},
   "outputs": [
    {
     "data": {
      "text/html": [
       "<div>\n",
       "<style scoped>\n",
       "    .dataframe tbody tr th:only-of-type {\n",
       "        vertical-align: middle;\n",
       "    }\n",
       "\n",
       "    .dataframe tbody tr th {\n",
       "        vertical-align: top;\n",
       "    }\n",
       "\n",
       "    .dataframe thead th {\n",
       "        text-align: right;\n",
       "    }\n",
       "</style>\n",
       "<table border=\"1\" class=\"dataframe\">\n",
       "  <thead>\n",
       "    <tr style=\"text-align: right;\">\n",
       "      <th></th>\n",
       "      <th>num_links</th>\n",
       "      <th>num_exclamations</th>\n",
       "      <th>email_length</th>\n",
       "    </tr>\n",
       "  </thead>\n",
       "  <tbody>\n",
       "    <tr>\n",
       "      <th>count</th>\n",
       "      <td>10000.000000</td>\n",
       "      <td>10000.000000</td>\n",
       "      <td>10000.000000</td>\n",
       "    </tr>\n",
       "    <tr>\n",
       "      <th>mean</th>\n",
       "      <td>2.023700</td>\n",
       "      <td>1.014300</td>\n",
       "      <td>500.419200</td>\n",
       "    </tr>\n",
       "    <tr>\n",
       "      <th>std</th>\n",
       "      <td>1.431762</td>\n",
       "      <td>1.002395</td>\n",
       "      <td>100.134162</td>\n",
       "    </tr>\n",
       "    <tr>\n",
       "      <th>min</th>\n",
       "      <td>0.000000</td>\n",
       "      <td>0.000000</td>\n",
       "      <td>132.000000</td>\n",
       "    </tr>\n",
       "    <tr>\n",
       "      <th>25%</th>\n",
       "      <td>1.000000</td>\n",
       "      <td>0.000000</td>\n",
       "      <td>432.000000</td>\n",
       "    </tr>\n",
       "    <tr>\n",
       "      <th>50%</th>\n",
       "      <td>2.000000</td>\n",
       "      <td>1.000000</td>\n",
       "      <td>500.000000</td>\n",
       "    </tr>\n",
       "    <tr>\n",
       "      <th>75%</th>\n",
       "      <td>3.000000</td>\n",
       "      <td>2.000000</td>\n",
       "      <td>569.000000</td>\n",
       "    </tr>\n",
       "    <tr>\n",
       "      <th>max</th>\n",
       "      <td>10.000000</td>\n",
       "      <td>7.000000</td>\n",
       "      <td>843.000000</td>\n",
       "    </tr>\n",
       "  </tbody>\n",
       "</table>\n",
       "</div>"
      ],
      "text/plain": [
       "          num_links  num_exclamations  email_length\n",
       "count  10000.000000      10000.000000  10000.000000\n",
       "mean       2.023700          1.014300    500.419200\n",
       "std        1.431762          1.002395    100.134162\n",
       "min        0.000000          0.000000    132.000000\n",
       "25%        1.000000          0.000000    432.000000\n",
       "50%        2.000000          1.000000    500.000000\n",
       "75%        3.000000          2.000000    569.000000\n",
       "max       10.000000          7.000000    843.000000"
      ]
     },
     "execution_count": 12,
     "metadata": {},
     "output_type": "execute_result"
    }
   ],
   "source": [
    "X.describe()"
   ]
  },
  {
   "cell_type": "markdown",
   "id": "c9081f3d",
   "metadata": {},
   "source": [
    "### Example: logistic regression"
   ]
  },
  {
   "cell_type": "code",
   "execution_count": 10,
   "id": "bbe58ad1",
   "metadata": {},
   "outputs": [
    {
     "name": "stdout",
     "output_type": "stream",
     "text": [
      "\n",
      "Classification Report:\n",
      "               precision    recall  f1-score   support\n",
      "\n",
      "         0.0       0.99      0.85      0.92      7194\n",
      "         1.0       0.41      0.91      0.57       806\n",
      "\n",
      "    accuracy                           0.86      8000\n",
      "   macro avg       0.70      0.88      0.74      8000\n",
      "weighted avg       0.93      0.86      0.88      8000\n",
      "\n",
      "\n",
      "Classification Report:\n",
      "               precision    recall  f1-score   support\n",
      "\n",
      "         0.0       0.98      0.85      0.91      1799\n",
      "         1.0       0.39      0.88      0.54       201\n",
      "\n",
      "    accuracy                           0.85      2000\n",
      "   macro avg       0.69      0.86      0.73      2000\n",
      "weighted avg       0.92      0.85      0.87      2000\n",
      "\n"
     ]
    }
   ],
   "source": [
    "import warnings\n",
    "from utils import train_logit\n",
    "\n",
    "warnings.filterwarnings('ignore')\n",
    "\n",
    "model_pipeline = train_logit(X, y)"
   ]
  },
  {
   "cell_type": "code",
   "execution_count": null,
   "id": "45b470a1",
   "metadata": {},
   "outputs": [],
   "source": []
  },
  {
   "cell_type": "code",
   "execution_count": null,
   "id": "005972de",
   "metadata": {},
   "outputs": [],
   "source": []
  }
 ],
 "metadata": {
  "kernelspec": {
   "display_name": ".venv",
   "language": "python",
   "name": "python3"
  },
  "language_info": {
   "codemirror_mode": {
    "name": "ipython",
    "version": 3
   },
   "file_extension": ".py",
   "mimetype": "text/x-python",
   "name": "python",
   "nbconvert_exporter": "python",
   "pygments_lexer": "ipython3",
   "version": "3.12.8"
  }
 },
 "nbformat": 4,
 "nbformat_minor": 5
}

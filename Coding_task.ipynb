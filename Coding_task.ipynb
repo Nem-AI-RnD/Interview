{
 "cells": [
  {
   "cell_type": "markdown",
   "metadata": {},
   "source": [
    "## Task 1: \n",
    "### Count the runs in sequence:\n",
    "\n",
    "1) Write a function that converts the input to the following output.\n",
    "\n",
    "- Input: \"aaaabbbcca\"\n",
    "\n",
    "- Output: [('a', 4), ('b', 3), ('c', 2), ('a', 1)]\n",
    "\n",
    "2) What is the time complexity of your algorithm?"
   ]
  },
  {
   "cell_type": "code",
   "execution_count": 94,
   "metadata": {},
   "outputs": [],
   "source": [
    "your_input = \"aaaabbbcca\""
   ]
  },
  {
   "cell_type": "markdown",
   "metadata": {},
   "source": [
    "## Task 2:\n",
    "### Write a function that converts a list of integers into a minimal set of contiguous ranges.\n",
    "\n",
    "Consecutive numbers should be merged into \"start-end\".\n",
    "\n",
    "Singletons should be kept as just \"value\" (no dash).\n",
    "\n",
    "Examples:\n",
    "\n",
    "    Input: [1, 2, 3, 5, 7, 8, 9]\n",
    "    Output: [\"1-3\", \"5\", \"7-9\"]\n",
    "\n",
    "    Input: [10, 11, 13]\n",
    "    Output: [\"10-11\", \"13\"]\n",
    "\n",
    "    Input: []\n",
    "    Output: []\n",
    "\n",
    "    Input: [4]\n",
    "    Output: [\"4\"]"
   ]
  },
  {
   "cell_type": "code",
   "execution_count": 95,
   "metadata": {},
   "outputs": [],
   "source": [
    "your_input = [1,2,3,5,7,8,9,15,16,18]"
   ]
  },
  {
   "cell_type": "markdown",
   "metadata": {},
   "source": [
    "## Task 3:\n",
    "### Merge Overlapping Intervals\n",
    "\n",
    "Given a list of intervals (start, end), merge all overlapping intervals and return a list of non-overlapping intervals that cover all the input intervals.\n",
    "\n",
    "    Input:\n",
    "    [(1, 3), (2, 4), (6, 8), (7, 9)]\n",
    "\n",
    "    Output:\n",
    "    [(1, 4), (6, 9)]\n"
   ]
  },
  {
   "cell_type": "code",
   "execution_count": 96,
   "metadata": {},
   "outputs": [],
   "source": [
    "your_input = [(1, 3), (2, 4), (6, 8), (7, 9)]"
   ]
  },
  {
   "cell_type": "code",
   "execution_count": null,
   "metadata": {},
   "outputs": [],
   "source": []
  }
 ],
 "metadata": {
  "kernelspec": {
   "display_name": "interview",
   "language": "python",
   "name": "python3"
  },
  "language_info": {
   "codemirror_mode": {
    "name": "ipython",
    "version": 3
   },
   "file_extension": ".py",
   "mimetype": "text/x-python",
   "name": "python",
   "nbconvert_exporter": "python",
   "pygments_lexer": "ipython3",
   "version": "3.12.8"
  }
 },
 "nbformat": 4,
 "nbformat_minor": 2
}

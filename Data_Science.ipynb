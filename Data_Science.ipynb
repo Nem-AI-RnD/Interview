{
 "cells": [
  {
   "cell_type": "markdown",
   "id": "2d016d2c",
   "metadata": {},
   "source": [
    "# Email Spam Classification"
   ]
  },
  {
   "cell_type": "markdown",
   "id": "ed85cd93",
   "metadata": {},
   "source": [
    "- Generate your dataset and get familiar with the target variable 'Spam/Non-Spam' and the explanatory variables, e.g. scale levels of your covariates etc. (10min)\n",
    "\n",
    "- Construct a simple predictive model to classify future emails (10min)\n",
    "\n",
    "- Motivate the steps you are pursuing and discuss your model results (5min)\n",
    "\n",
    "- What are the pros/cons of your selected algorithm? (10min)\n",
    "\n",
    "- How could you improve it? (5min)"
   ]
  },
  {
   "cell_type": "code",
   "execution_count": 1,
   "id": "61d00df9",
   "metadata": {},
   "outputs": [],
   "source": [
    "from utils import SpamDataset"
   ]
  },
  {
   "cell_type": "code",
   "execution_count": 10,
   "id": "89ab77b4",
   "metadata": {},
   "outputs": [
    {
     "name": "stdout",
     "output_type": "stream",
     "text": [
      "\n",
      "    A class to generate a synthetic dataset for a spam classification task.\n",
      "\n",
      "    The dataset contains emails with features that are commonly used\n",
      "    in spam classification. The dataset includes 9 covariates and a binary response.\n",
      "\n",
      "    Feature Descriptions:\n",
      "      - num_links: The number of hyperlinks in the email. Spam emails\n",
      "                   often contain several links to redirect the user.\n",
      "      - num_exclamations: The count of exclamation marks in the email.\n",
      "                          An unusually high count may indicate spam.\n",
      "      - email_length: The length of the email in characters. This can\n",
      "                      help differentiate short, potentially templated spam emails\n",
      "                      from longer legitimate communications.\n",
      "      - sender_domain: The domain from which the email was sent\n",
      "                       (e.g., gmail.com, yahoo.com, spamdomain.net). Some domains\n",
      "                       are more frequently associated with spam.\n",
      "      - email_client: The client or platform used to send or view\n",
      "                      the email (e.g., Web, Mobile, Desktop, Other).\n",
      "      - suspicion_score: An ordinal measure (scale 1-5) indicating how\n",
      "                         suspicious the email appears. Higher scores suggest greater\n",
      "                         suspicion.\n",
      "      - urgency_level: An ordinal measure (scale 1-5) representing how\n",
      "                       urgent the email appears. Spam emails may exaggerate urgency\n",
      "                       to provoke a quick reaction.\n",
      "      - subject: The subject line of the email. Spam emails often use\n",
      "                 attention-grabbing phrases.\n",
      "      - email_body: A snippet of the email body, which may include both\n",
      "                    spam-like language and standard communication phrases.\n",
      "      - target: The class label where 1 indicates a spam email and 0\n",
      "                  indicates a non-spam email.\n",
      "    \n"
     ]
    }
   ],
   "source": [
    "data = SpamDataset()\n",
    "\n",
    "X, y = data.load_dataset(na_ratio_for_non_spam=0)\n",
    "\n",
    "data.print_description()"
   ]
  },
  {
   "cell_type": "code",
   "execution_count": 11,
   "id": "fbf51714",
   "metadata": {},
   "outputs": [],
   "source": [
    "# data = SpamDataset(spam_ratio=0.1)\n",
    "\n",
    "# X, y = data.load_dataset(na_ratio_for_non_spam=0.5)\n",
    "# X, y = data.load_dataset(na_ratio_for_non_spam=1)"
   ]
  },
  {
   "cell_type": "code",
   "execution_count": 12,
   "id": "0a2d1c70",
   "metadata": {},
   "outputs": [
    {
     "data": {
      "text/plain": [
       "target\n",
       "0    0.9535\n",
       "1    0.0465\n",
       "Name: proportion, dtype: Float64"
      ]
     },
     "execution_count": 12,
     "metadata": {},
     "output_type": "execute_result"
    }
   ],
   "source": [
    "y.value_counts(dropna=False, normalize=True)"
   ]
  },
  {
   "cell_type": "code",
   "execution_count": 13,
   "id": "e6ca08d4",
   "metadata": {},
   "outputs": [],
   "source": [
    "# y.value_counts(dropna=True, normalize=True).plot(kind='bar', title='Target Distribution'); "
   ]
  },
  {
   "cell_type": "code",
   "execution_count": 14,
   "id": "f9cbdca7",
   "metadata": {},
   "outputs": [
    {
     "data": {
      "text/html": [
       "<div>\n",
       "<style scoped>\n",
       "    .dataframe tbody tr th:only-of-type {\n",
       "        vertical-align: middle;\n",
       "    }\n",
       "\n",
       "    .dataframe tbody tr th {\n",
       "        vertical-align: top;\n",
       "    }\n",
       "\n",
       "    .dataframe thead th {\n",
       "        text-align: right;\n",
       "    }\n",
       "</style>\n",
       "<table border=\"1\" class=\"dataframe\">\n",
       "  <thead>\n",
       "    <tr style=\"text-align: right;\">\n",
       "      <th></th>\n",
       "      <th>num_links</th>\n",
       "      <th>num_exclamations</th>\n",
       "      <th>email_length</th>\n",
       "    </tr>\n",
       "  </thead>\n",
       "  <tbody>\n",
       "    <tr>\n",
       "      <th>count</th>\n",
       "      <td>10000.000000</td>\n",
       "      <td>10000.000000</td>\n",
       "      <td>10000.000000</td>\n",
       "    </tr>\n",
       "    <tr>\n",
       "      <th>mean</th>\n",
       "      <td>2.006400</td>\n",
       "      <td>0.987600</td>\n",
       "      <td>500.419900</td>\n",
       "    </tr>\n",
       "    <tr>\n",
       "      <th>std</th>\n",
       "      <td>1.405403</td>\n",
       "      <td>0.999673</td>\n",
       "      <td>100.082687</td>\n",
       "    </tr>\n",
       "    <tr>\n",
       "      <th>min</th>\n",
       "      <td>0.000000</td>\n",
       "      <td>0.000000</td>\n",
       "      <td>70.000000</td>\n",
       "    </tr>\n",
       "    <tr>\n",
       "      <th>25%</th>\n",
       "      <td>1.000000</td>\n",
       "      <td>0.000000</td>\n",
       "      <td>433.000000</td>\n",
       "    </tr>\n",
       "    <tr>\n",
       "      <th>50%</th>\n",
       "      <td>2.000000</td>\n",
       "      <td>1.000000</td>\n",
       "      <td>500.500000</td>\n",
       "    </tr>\n",
       "    <tr>\n",
       "      <th>75%</th>\n",
       "      <td>3.000000</td>\n",
       "      <td>2.000000</td>\n",
       "      <td>569.000000</td>\n",
       "    </tr>\n",
       "    <tr>\n",
       "      <th>max</th>\n",
       "      <td>9.000000</td>\n",
       "      <td>7.000000</td>\n",
       "      <td>853.000000</td>\n",
       "    </tr>\n",
       "  </tbody>\n",
       "</table>\n",
       "</div>"
      ],
      "text/plain": [
       "          num_links  num_exclamations  email_length\n",
       "count  10000.000000      10000.000000  10000.000000\n",
       "mean       2.006400          0.987600    500.419900\n",
       "std        1.405403          0.999673    100.082687\n",
       "min        0.000000          0.000000     70.000000\n",
       "25%        1.000000          0.000000    433.000000\n",
       "50%        2.000000          1.000000    500.500000\n",
       "75%        3.000000          2.000000    569.000000\n",
       "max        9.000000          7.000000    853.000000"
      ]
     },
     "execution_count": 14,
     "metadata": {},
     "output_type": "execute_result"
    }
   ],
   "source": [
    "X.describe()"
   ]
  },
  {
   "cell_type": "markdown",
   "id": "c9081f3d",
   "metadata": {},
   "source": [
    "### Example: logistic regression"
   ]
  },
  {
   "cell_type": "code",
   "execution_count": 15,
   "id": "bbe58ad1",
   "metadata": {},
   "outputs": [
    {
     "name": "stdout",
     "output_type": "stream",
     "text": [
      "\n",
      "Classification Report:\n",
      "               precision    recall  f1-score   support\n",
      "\n",
      "         0.0       0.99      0.80      0.89      7628\n",
      "         1.0       0.18      0.89      0.30       372\n",
      "\n",
      "    accuracy                           0.80      8000\n",
      "   macro avg       0.59      0.84      0.59      8000\n",
      "weighted avg       0.96      0.80      0.86      8000\n",
      "\n",
      "\n",
      "Classification Report:\n",
      "               precision    recall  f1-score   support\n",
      "\n",
      "         0.0       0.99      0.81      0.89      1907\n",
      "         1.0       0.18      0.87      0.30        93\n",
      "\n",
      "    accuracy                           0.81      2000\n",
      "   macro avg       0.59      0.84      0.60      2000\n",
      "weighted avg       0.95      0.81      0.86      2000\n",
      "\n"
     ]
    }
   ],
   "source": [
    "import warnings\n",
    "from utils_solution import train_logit\n",
    "\n",
    "warnings.filterwarnings('ignore')\n",
    "\n",
    "model_pipeline = train_logit(X, y)"
   ]
  },
  {
   "cell_type": "code",
   "execution_count": null,
   "id": "45b470a1",
   "metadata": {},
   "outputs": [],
   "source": []
  },
  {
   "cell_type": "code",
   "execution_count": null,
   "id": "005972de",
   "metadata": {},
   "outputs": [],
   "source": []
  }
 ],
 "metadata": {
  "kernelspec": {
   "display_name": ".venv",
   "language": "python",
   "name": "python3"
  },
  "language_info": {
   "codemirror_mode": {
    "name": "ipython",
    "version": 3
   },
   "file_extension": ".py",
   "mimetype": "text/x-python",
   "name": "python",
   "nbconvert_exporter": "python",
   "pygments_lexer": "ipython3",
   "version": "3.12.8"
  }
 },
 "nbformat": 4,
 "nbformat_minor": 5
}

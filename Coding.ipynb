{
 "cells": [
  {
   "cell_type": "markdown",
   "metadata": {},
   "source": [
    "## Count the runs in sequence:\n",
    "\n",
    "1) Write a function that converts the input to the output.\n",
    "2) What is the time complexity of your algorithm?\n",
    "\n",
    "Input: \"aaaabbbcca\"\n",
    "\n",
    "Output: [('a', 4), ('b', 3), ('c', 2), ('a', 1)]"
   ]
  },
  {
   "cell_type": "code",
   "execution_count": null,
   "metadata": {},
   "outputs": [],
   "source": [
    "input = \"aaaabbbcca\""
   ]
  },
  {
   "cell_type": "markdown",
   "metadata": {},
   "source": [
    "Solution: Time complexity O(n)"
   ]
  },
  {
   "cell_type": "code",
   "execution_count": null,
   "metadata": {},
   "outputs": [],
   "source": [
    "output = []            # list to store character counts\n",
    "val = list(input)\n",
    "c = 1               # counter\n",
    "\n",
    "for i in range(1, len(val)):         # O(n)\n",
    "    if val[i] == val[i - 1]:         # O(1)\n",
    "        print(val[i], c)\n",
    "        c += 1\n",
    "    else:\n",
    "        output.append((val[i - 1], c))\n",
    "        print(val[i], c)\n",
    "        c = 1\n",
    "\n",
    "# Append the last character and its count\n",
    "output.append((val[-1], c))\n",
    "print(output)        # O(n)"
   ]
  },
  {
   "cell_type": "code",
   "execution_count": null,
   "metadata": {},
   "outputs": [],
   "source": []
  }
 ],
 "metadata": {
  "kernelspec": {
   "display_name": ".venv",
   "language": "python",
   "name": "python3"
  },
  "language_info": {
   "codemirror_mode": {
    "name": "ipython",
    "version": 3
   },
   "file_extension": ".py",
   "mimetype": "text/x-python",
   "name": "python",
   "nbconvert_exporter": "python",
   "pygments_lexer": "ipython3",
   "version": "3.12.8"
  }
 },
 "nbformat": 4,
 "nbformat_minor": 2
}

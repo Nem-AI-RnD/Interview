{
 "cells": [
  {
   "cell_type": "markdown",
   "id": "2d016d2c",
   "metadata": {},
   "source": [
    "# Spam Email Classification - Dataset"
   ]
  },
  {
   "cell_type": "code",
   "execution_count": 1,
   "id": "61d00df9",
   "metadata": {},
   "outputs": [],
   "source": [
    "from utils import SpamDataset"
   ]
  },
  {
   "cell_type": "code",
   "execution_count": null,
   "id": "89ab77b4",
   "metadata": {},
   "outputs": [],
   "source": [
    "data = SpamDataset()\n",
    "\n",
    "X, y = data.load_dataset(na_ratio_for_non_spam=0)\n",
    "\n",
    "data.print_description()"
   ]
  },
  {
   "cell_type": "code",
   "execution_count": null,
   "id": "fbf51714",
   "metadata": {},
   "outputs": [],
   "source": [
    "# data = SpamDataset(spam_ratio=0.1)\n",
    "# X, y = data.load_dataset(na_ratio_for_non_spam=0.5)\n",
    "# X, y = data.load_dataset(na_ratio_for_non_spam=1)"
   ]
  }
 ],
 "metadata": {
  "kernelspec": {
   "display_name": ".venv",
   "language": "python",
   "name": "python3"
  },
  "language_info": {
   "codemirror_mode": {
    "name": "ipython",
    "version": 3
   },
   "file_extension": ".py",
   "mimetype": "text/x-python",
   "name": "python",
   "nbconvert_exporter": "python",
   "pygments_lexer": "ipython3",
   "version": "3.12.8"
  }
 },
 "nbformat": 4,
 "nbformat_minor": 5
}
